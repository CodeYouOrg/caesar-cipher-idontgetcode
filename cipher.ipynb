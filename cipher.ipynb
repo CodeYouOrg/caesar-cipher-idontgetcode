{
 "cells": [
  {
   "cell_type": "code",
   "execution_count": 23,
   "metadata": {},
   "outputs": [
    {
     "name": "stdout",
     "output_type": "stream",
     "text": [
      "A\n",
      "B\n"
     ]
    }
   ],
   "source": [
    "\n",
    "plain_list = [\"A\",\"B\"]\n",
    "\n",
    "for i in range(2):\n",
    "    print(plain_list[i])"
   ]
  },
  {
   "cell_type": "code",
   "execution_count": 22,
   "metadata": {},
   "outputs": [
    {
     "name": "stdout",
     "output_type": "stream",
     "text": [
      "['Formatter', 'Template', '_ChainMap', '__all__', '__builtins__', '__cached__', '__doc__', '__file__', '__loader__', '__name__', '__package__', '__spec__', '_re', '_sentinel_dict', '_string', 'ascii_letters', 'ascii_lowercase', 'ascii_uppercase', 'capwords', 'digits', 'hexdigits', 'octdigits', 'printable', 'punctuation', 'whitespace']\n"
     ]
    }
   ],
   "source": [
    "# display all attributes? for an inbuilt funtion\n",
    "import string\n",
    "\n",
    "print (dir(string))"
   ]
  },
  {
   "cell_type": "code",
   "execution_count": 47,
   "metadata": {},
   "outputs": [
    {
     "name": "stdout",
     "output_type": "stream",
     "text": [
      "ABCDEFGHIJKLMNOPQRSTUVWXYZ\n"
     ]
    }
   ],
   "source": [
    "# Get all lettes of the alphabet.\n",
    "# calling a funtion syntax is importedlibrary.function\n",
    "# to view all functions in a library, go to c:/users/hari/AppData/Local/Programs/Python/Python312/Lib\n",
    "# Do ls and open file library.py  (e.g. string.py). It'll open in vscode where you can view details.\n",
    "#Syntax for using tabs: print(plain_list,\"\\t\",plain_list)\n",
    "import string\n",
    "plain_list = string.ascii_uppercase\n",
    "#print(plain_list,\"\\t\",plain_list)\n",
    "print(plain_list)"
   ]
  },
  {
   "cell_type": "code",
   "execution_count": 101,
   "metadata": {},
   "outputs": [
    {
     "name": "stdout",
     "output_type": "stream",
     "text": [
      "ABCDEFGHIJKLMNOPQRSTUVWXYZ\n",
      "FGHIJKLMNOPQRSTUVWXYZABCDE\n"
     ]
    }
   ],
   "source": [
    "import string\n",
    "\n",
    "plain_list = string.ascii_uppercase\n",
    "print(plain_list)\n",
    "\n",
    "cipher_right_shift = 5\n",
    "\n",
    "cipher_list = plain_list[cipher_right_shift:]+plain_list[:cipher_right_shift]\n",
    "print(cipher_list)\n",
    " \n",
    "\n"
   ]
  },
  {
   "cell_type": "code",
   "execution_count": 103,
   "metadata": {},
   "outputs": [
    {
     "name": "stdout",
     "output_type": "stream",
     "text": [
      "['c:\\\\Users\\\\hari\\\\AppData\\\\Local\\\\Programs\\\\Python\\\\Python312\\\\Lib\\\\site-packages\\\\ipykernel_launcher.py', '--f=c:\\\\Users\\\\hari\\\\AppData\\\\Roaming\\\\jupyter\\\\runtime\\\\kernel-v2-19236xP5vkgQ4dho4.json']\n"
     ]
    }
   ],
   "source": [
    "import sys\n",
    "print (sys.argv)"
   ]
  },
  {
   "cell_type": "code",
   "execution_count": 195,
   "metadata": {},
   "outputs": [
    {
     "name": "stdout",
     "output_type": "stream",
     "text": [
      "thanks!\n"
     ]
    }
   ],
   "source": [
    "import sys\n",
    "#import comm\n",
    "#import cmd\n",
    "\n",
    "val = input(\"Enter your value :\")\n",
    "print(val)\n",
    "\n"
   ]
  },
  {
   "cell_type": "code",
   "execution_count": 196,
   "metadata": {},
   "outputs": [
    {
     "name": "stdout",
     "output_type": "stream",
     "text": [
      "thanks for your help\n",
      "s for your helpthank\n"
     ]
    }
   ],
   "source": [
    "import sys\n",
    "import string\n",
    "\n",
    "plain_list = input(\"Enter your Text :\")\n",
    "print(plain_list)\n",
    "\n",
    "#plain_list = string.ascii_uppercase\n",
    "#print(plain_list)\n",
    "\n",
    "cipher_right_shift = 5\n",
    "\n",
    "cipher_list = plain_list[cipher_right_shift:]+plain_list[:cipher_right_shift]\n",
    "print(cipher_list)"
   ]
  },
  {
   "cell_type": "code",
   "execution_count": 143,
   "metadata": {},
   "outputs": [
    {
     "name": "stdout",
     "output_type": "stream",
     "text": [
      "news\n"
     ]
    },
    {
     "ename": "TypeError",
     "evalue": "string indices must be integers, not 'str'",
     "output_type": "error",
     "traceback": [
      "\u001b[1;31m---------------------------------------------------------------------------\u001b[0m",
      "\u001b[1;31mTypeError\u001b[0m                                 Traceback (most recent call last)",
      "Cell \u001b[1;32mIn[143], line 29\u001b[0m\n\u001b[0;32m     16\u001b[0m \u001b[38;5;66;03m#for i in range (len(user_list)):\u001b[39;00m\n\u001b[0;32m     17\u001b[0m \u001b[38;5;66;03m#    temp_list[0] = user_list[0]\u001b[39;00m\n\u001b[0;32m     18\u001b[0m \u001b[38;5;66;03m#    print(temp_list[0])\u001b[39;00m\n\u001b[1;32m   (...)\u001b[0m\n\u001b[0;32m     25\u001b[0m \n\u001b[0;32m     26\u001b[0m \u001b[38;5;66;03m#position_of_letter = 0\u001b[39;00m\n\u001b[0;32m     28\u001b[0m \u001b[38;5;28;01mfor\u001b[39;00m position_of_letter \u001b[38;5;129;01min\u001b[39;00m user_list:\n\u001b[1;32m---> 29\u001b[0m     temp_list[position_of_letter] \u001b[38;5;241m=\u001b[39m \u001b[43muser_list\u001b[49m\u001b[43m[\u001b[49m\u001b[43mposition_of_letter\u001b[49m\u001b[43m]\u001b[49m\n\u001b[0;32m     30\u001b[0m     \u001b[38;5;28mprint\u001b[39m(temp_list[position_of_letter])\n",
      "\u001b[1;31mTypeError\u001b[0m: string indices must be integers, not 'str'"
     ]
    }
   ],
   "source": [
    "import sys\n",
    "import string\n",
    "\n",
    "user_list = input(\"Enter your Text :\")\n",
    "print(user_list)\n",
    "\n",
    "plain_list = string.ascii_uppercase\n",
    "#print(plain_list)\n",
    "temp_list = user_list\n",
    "\n",
    "#plain_list = string.ascii_uppercase\n",
    "#print(plain_list)\n",
    "cipher_right_shift = 5\n",
    "\n",
    "\n",
    "#for i in range (len(user_list)):\n",
    "#    temp_list[0] = user_list[0]\n",
    "#    print(temp_list[0])\n",
    "    #find temp_list[0](T) in plain_list[]\n",
    "    #go ahead by 5 positions in plain_list\n",
    "    #put that new plain_list letter into new_list and print.  \n",
    "\n",
    "#cipher_list = plain_list[cipher_right_shift:]+plain_list[:cipher_right_shift]\n",
    "#print(cipher_list)\n",
    "\n",
    "#position_of_letter = 0\n",
    "\n",
    "for position_of_letter in user_list:\n",
    "    temp_list[position_of_letter] = user_list[position_of_letter]\n",
    "    print(temp_list[position_of_letter])"
   ]
  },
  {
   "cell_type": "code",
   "execution_count": 232,
   "metadata": {},
   "outputs": [
    {
     "name": "stdout",
     "output_type": "stream",
     "text": [
      "abcdefghijklmnopqrstuvwxyzABCDEFGHIJKLMNOPQRSTUVWXYZ\n",
      "Y\n",
      "m\n",
      "f\n",
      "s\n",
      "p\n",
      "x\n"
     ]
    }
   ],
   "source": [
    "import string\n",
    "i = 0\n",
    "cipher_right_shift = 5\n",
    "string1 = 'Thanks'\n",
    "letter = string1[i]\n",
    "#letter = 'k'\n",
    "\n",
    "\n",
    "\n",
    "plain_list = string.ascii_letters\n",
    "print(plain_list)\n",
    "\n",
    "\n",
    "for i in range(len(string1)):\n",
    "    letter = string1[i]\n",
    "    position_of_letter = string1.rfind(letter)\n",
    "    #print(position_of_letter)\n",
    "   # i=position_of_letter\n",
    "    position_of_letter = plain_list.rfind(letter)\n",
    "    #print(position_of_letter)\n",
    "    position_of_letter = position_of_letter + cipher_right_shift\n",
    "    #print(position_of_letter)\n",
    "    print(plain_list[position_of_letter])\n",
    "  \n",
    "\n",
    "\n",
    "    \n",
    "\n",
    "    "
   ]
  },
  {
   "cell_type": "code",
   "execution_count": 236,
   "metadata": {},
   "outputs": [
    {
     "name": "stdout",
     "output_type": "stream",
     "text": [
      "fun\n",
      "abcdefghijklmnopqrstuvwxyz\n",
      "k\n",
      "z\n",
      "s\n"
     ]
    }
   ],
   "source": [
    "import sys\n",
    "import string\n",
    "\n",
    "\n",
    "\n",
    "i = 0\n",
    "cipher_right_shift = 5\n",
    "string1 = 'Thanks'\n",
    "letter = string1[i]\n",
    "#letter = 'k'\n",
    "string1 = input(\"Enter your Text :\")\n",
    "print(string1)\n",
    "\n",
    "\n",
    "\n",
    "plain_list = string.ascii_lowercase\n",
    "print(plain_list)\n",
    "\n",
    "\n",
    "for i in range(len(string1)):\n",
    "    letter = string1[i]\n",
    "    position_of_letter = string1.rfind(letter)\n",
    "    #print(position_of_letter)\n",
    "   # i=position_of_letter\n",
    "    position_of_letter = plain_list.rfind(letter)\n",
    "    #print(position_of_letter)\n",
    "    position_of_letter = position_of_letter + cipher_right_shift\n",
    "    #print(position_of_letter)\n",
    "    print(plain_list[position_of_letter])\n",
    "  \n",
    "\n",
    "\n",
    "    \n",
    "\n",
    "    "
   ]
  },
  {
   "cell_type": "code",
   "execution_count": 237,
   "metadata": {},
   "outputs": [
    {
     "name": "stdout",
     "output_type": "stream",
     "text": [
      "run\n",
      "abcdefghijklmnopqrstuvwxyz\n"
     ]
    },
    {
     "ename": "KeyboardInterrupt",
     "evalue": "",
     "output_type": "error",
     "traceback": [
      "\u001b[1;31m---------------------------------------------------------------------------\u001b[0m",
      "\u001b[1;31mKeyboardInterrupt\u001b[0m                         Traceback (most recent call last)",
      "Cell \u001b[1;32mIn[237], line 17\u001b[0m\n\u001b[0;32m     13\u001b[0m \u001b[38;5;28mprint\u001b[39m(plain_list)\n\u001b[0;32m     16\u001b[0m \u001b[38;5;28;01mfor\u001b[39;00m i \u001b[38;5;129;01min\u001b[39;00m \u001b[38;5;28mrange\u001b[39m(\u001b[38;5;28mlen\u001b[39m(string1)):\n\u001b[1;32m---> 17\u001b[0m     letter \u001b[38;5;241m=\u001b[39m \u001b[43mstring1\u001b[49m[i]\n\u001b[0;32m     18\u001b[0m     position_of_letter \u001b[38;5;241m=\u001b[39m string1\u001b[38;5;241m.\u001b[39mrfind(letter)\n\u001b[0;32m     19\u001b[0m     \u001b[38;5;66;03m#print(position_of_letter)\u001b[39;00m\n\u001b[0;32m     20\u001b[0m    \u001b[38;5;66;03m# i=position_of_letter\u001b[39;00m\n",
      "File \u001b[1;32mc:\\Users\\hari\\AppData\\Local\\Programs\\Python\\Python312\\Lib\\site-packages\\debugpy\\_vendored\\pydevd\\_pydevd_bundle\\pydevd_frame.py:1197\u001b[0m, in \u001b[0;36mPyDBFrame.trace_dispatch\u001b[1;34m(self, frame, event, arg)\u001b[0m\n\u001b[0;32m   1195\u001b[0m \u001b[38;5;28;01mif\u001b[39;00m is_line:\n\u001b[0;32m   1196\u001b[0m     \u001b[38;5;28mself\u001b[39m\u001b[38;5;241m.\u001b[39mset_suspend(thread, step_cmd, original_step_cmd\u001b[38;5;241m=\u001b[39minfo\u001b[38;5;241m.\u001b[39mpydev_original_step_cmd)\n\u001b[1;32m-> 1197\u001b[0m     \u001b[38;5;28;43mself\u001b[39;49m\u001b[38;5;241;43m.\u001b[39;49m\u001b[43mdo_wait_suspend\u001b[49m\u001b[43m(\u001b[49m\u001b[43mthread\u001b[49m\u001b[43m,\u001b[49m\u001b[43m \u001b[49m\u001b[43mframe\u001b[49m\u001b[43m,\u001b[49m\u001b[43m \u001b[49m\u001b[43mevent\u001b[49m\u001b[43m,\u001b[49m\u001b[43m \u001b[49m\u001b[43marg\u001b[49m\u001b[43m)\u001b[49m\n\u001b[0;32m   1198\u001b[0m \u001b[38;5;28;01melif\u001b[39;00m is_return:  \u001b[38;5;66;03m# return event\u001b[39;00m\n\u001b[0;32m   1199\u001b[0m     back \u001b[38;5;241m=\u001b[39m frame\u001b[38;5;241m.\u001b[39mf_back\n",
      "File \u001b[1;32mc:\\Users\\hari\\AppData\\Local\\Programs\\Python\\Python312\\Lib\\site-packages\\debugpy\\_vendored\\pydevd\\_pydevd_bundle\\pydevd_frame.py:165\u001b[0m, in \u001b[0;36mPyDBFrame.do_wait_suspend\u001b[1;34m(self, *args, **kwargs)\u001b[0m\n\u001b[0;32m    164\u001b[0m \u001b[38;5;28;01mdef\u001b[39;00m \u001b[38;5;21mdo_wait_suspend\u001b[39m(\u001b[38;5;28mself\u001b[39m, \u001b[38;5;241m*\u001b[39margs, \u001b[38;5;241m*\u001b[39m\u001b[38;5;241m*\u001b[39mkwargs):\n\u001b[1;32m--> 165\u001b[0m     \u001b[38;5;28;43mself\u001b[39;49m\u001b[38;5;241;43m.\u001b[39;49m\u001b[43m_args\u001b[49m\u001b[43m[\u001b[49m\u001b[38;5;241;43m0\u001b[39;49m\u001b[43m]\u001b[49m\u001b[38;5;241;43m.\u001b[39;49m\u001b[43mdo_wait_suspend\u001b[49m\u001b[43m(\u001b[49m\u001b[38;5;241;43m*\u001b[39;49m\u001b[43margs\u001b[49m\u001b[43m,\u001b[49m\u001b[43m \u001b[49m\u001b[38;5;241;43m*\u001b[39;49m\u001b[38;5;241;43m*\u001b[39;49m\u001b[43mkwargs\u001b[49m\u001b[43m)\u001b[49m\n",
      "File \u001b[1;32mc:\\Users\\hari\\AppData\\Local\\Programs\\Python\\Python312\\Lib\\site-packages\\debugpy\\_vendored\\pydevd\\pydevd.py:2070\u001b[0m, in \u001b[0;36mPyDB.do_wait_suspend\u001b[1;34m(self, thread, frame, event, arg, exception_type)\u001b[0m\n\u001b[0;32m   2067\u001b[0m             from_this_thread\u001b[38;5;241m.\u001b[39mappend(frame_custom_thread_id)\n\u001b[0;32m   2069\u001b[0m     \u001b[38;5;28;01mwith\u001b[39;00m \u001b[38;5;28mself\u001b[39m\u001b[38;5;241m.\u001b[39m_threads_suspended_single_notification\u001b[38;5;241m.\u001b[39mnotify_thread_suspended(thread_id, thread, stop_reason):\n\u001b[1;32m-> 2070\u001b[0m         keep_suspended \u001b[38;5;241m=\u001b[39m \u001b[38;5;28;43mself\u001b[39;49m\u001b[38;5;241;43m.\u001b[39;49m\u001b[43m_do_wait_suspend\u001b[49m\u001b[43m(\u001b[49m\u001b[43mthread\u001b[49m\u001b[43m,\u001b[49m\u001b[43m \u001b[49m\u001b[43mframe\u001b[49m\u001b[43m,\u001b[49m\u001b[43m \u001b[49m\u001b[43mevent\u001b[49m\u001b[43m,\u001b[49m\u001b[43m \u001b[49m\u001b[43marg\u001b[49m\u001b[43m,\u001b[49m\u001b[43m \u001b[49m\u001b[43msuspend_type\u001b[49m\u001b[43m,\u001b[49m\u001b[43m \u001b[49m\u001b[43mfrom_this_thread\u001b[49m\u001b[43m,\u001b[49m\u001b[43m \u001b[49m\u001b[43mframes_tracker\u001b[49m\u001b[43m)\u001b[49m\n\u001b[0;32m   2072\u001b[0m frames_list \u001b[38;5;241m=\u001b[39m \u001b[38;5;28;01mNone\u001b[39;00m\n\u001b[0;32m   2074\u001b[0m \u001b[38;5;28;01mif\u001b[39;00m keep_suspended:\n\u001b[0;32m   2075\u001b[0m     \u001b[38;5;66;03m# This means that we should pause again after a set next statement.\u001b[39;00m\n",
      "File \u001b[1;32mc:\\Users\\hari\\AppData\\Local\\Programs\\Python\\Python312\\Lib\\site-packages\\debugpy\\_vendored\\pydevd\\pydevd.py:2106\u001b[0m, in \u001b[0;36mPyDB._do_wait_suspend\u001b[1;34m(self, thread, frame, event, arg, suspend_type, from_this_thread, frames_tracker)\u001b[0m\n\u001b[0;32m   2103\u001b[0m         \u001b[38;5;28mself\u001b[39m\u001b[38;5;241m.\u001b[39m_call_input_hook()\n\u001b[0;32m   2105\u001b[0m     \u001b[38;5;28mself\u001b[39m\u001b[38;5;241m.\u001b[39mprocess_internal_commands()\n\u001b[1;32m-> 2106\u001b[0m     \u001b[43mtime\u001b[49m\u001b[38;5;241;43m.\u001b[39;49m\u001b[43msleep\u001b[49m\u001b[43m(\u001b[49m\u001b[38;5;241;43m0.01\u001b[39;49m\u001b[43m)\u001b[49m\n\u001b[0;32m   2108\u001b[0m \u001b[38;5;28mself\u001b[39m\u001b[38;5;241m.\u001b[39mcancel_async_evaluation(get_current_thread_id(thread), \u001b[38;5;28mstr\u001b[39m(\u001b[38;5;28mid\u001b[39m(frame)))\n\u001b[0;32m   2110\u001b[0m \u001b[38;5;66;03m# process any stepping instructions\u001b[39;00m\n",
      "\u001b[1;31mKeyboardInterrupt\u001b[0m: "
     ]
    }
   ],
   "source": [
    "import sys\n",
    "import string\n",
    "\n",
    "i = 0\n",
    "cipher_right_shift = 5\n",
    "string1 = 'Thanks'\n",
    "letter = string1[i]\n",
    "#letter = 'k'\n",
    "string1 = input(\"Enter your Text :\")\n",
    "print(string1)\n",
    "\n",
    "plain_list = string.ascii_lowercase\n",
    "print(plain_list)\n",
    "\n",
    "\n",
    "for i in range(len(string1)):\n",
    "    letter = string1[i]\n",
    "    position_of_letter = string1.rfind(letter)\n",
    "    #print(position_of_letter)\n",
    "   # i=position_of_letter\n",
    "    position_of_letter = plain_list.rfind(letter)\n",
    "    #print(position_of_letter)\n",
    "    position_of_letter = position_of_letter + cipher_right_shift\n",
    "    #print(position_of_letter)\n",
    "    print(plain_list[position_of_letter])\n",
    "    \n",
    "    \n",
    "  \n",
    "\n",
    "\n",
    "    \n",
    "\n",
    "    "
   ]
  }
 ],
 "metadata": {
  "kernelspec": {
   "display_name": "Python 3",
   "language": "python",
   "name": "python3"
  },
  "language_info": {
   "codemirror_mode": {
    "name": "ipython",
    "version": 3
   },
   "file_extension": ".py",
   "mimetype": "text/x-python",
   "name": "python",
   "nbconvert_exporter": "python",
   "pygments_lexer": "ipython3",
   "version": "3.12.4"
  }
 },
 "nbformat": 4,
 "nbformat_minor": 2
}
